{
 "cells": [
  {
   "cell_type": "markdown",
   "metadata": {},
   "source": [
    "# ABS AcmeAir"
   ]
  },
  {
   "cell_type": "code",
   "execution_count": 1,
   "metadata": {},
   "outputs": [],
   "source": [
    "import pandas as pd\n",
    "import seaborn as sns\n",
    "import matplotlib.pyplot as plt\n",
    "import numpy as np\n",
    "import os"
   ]
  },
  {
   "cell_type": "markdown",
   "metadata": {},
   "source": [
    "Define some constant for plots"
   ]
  },
  {
   "cell_type": "markdown",
   "metadata": {},
   "source": [
    "## Data Manipulation"
   ]
  },
  {
   "cell_type": "code",
   "execution_count": 2,
   "metadata": {},
   "outputs": [
    {
     "data": {
      "text/html": [
       "<div>\n",
       "<style scoped>\n",
       "    .dataframe tbody tr th:only-of-type {\n",
       "        vertical-align: middle;\n",
       "    }\n",
       "\n",
       "    .dataframe tbody tr th {\n",
       "        vertical-align: top;\n",
       "    }\n",
       "\n",
       "    .dataframe thead th {\n",
       "        text-align: right;\n",
       "    }\n",
       "</style>\n",
       "<table border=\"1\" class=\"dataframe\">\n",
       "  <thead>\n",
       "    <tr style=\"text-align: right;\">\n",
       "      <th></th>\n",
       "      <th>Time(s)</th>\n",
       "      <th>Request</th>\n",
       "      <th>Response</th>\n",
       "      <th>#Users</th>\n",
       "      <th>#Cores</th>\n",
       "    </tr>\n",
       "  </thead>\n",
       "  <tbody>\n",
       "    <tr>\n",
       "      <th>0</th>\n",
       "      <td>0.0</td>\n",
       "      <td>0.000000</td>\n",
       "      <td>0.000000</td>\n",
       "      <td>0.0</td>\n",
       "      <td>33.004000</td>\n",
       "    </tr>\n",
       "    <tr>\n",
       "      <th>1</th>\n",
       "      <td>5.0</td>\n",
       "      <td>0.000000</td>\n",
       "      <td>0.000000</td>\n",
       "      <td>39.0</td>\n",
       "      <td>33.004000</td>\n",
       "    </tr>\n",
       "    <tr>\n",
       "      <th>2</th>\n",
       "      <td>10.0</td>\n",
       "      <td>12.190909</td>\n",
       "      <td>4.327273</td>\n",
       "      <td>43.0</td>\n",
       "      <td>33.004000</td>\n",
       "    </tr>\n",
       "    <tr>\n",
       "      <th>3</th>\n",
       "      <td>15.0</td>\n",
       "      <td>13.854545</td>\n",
       "      <td>7.445455</td>\n",
       "      <td>46.0</td>\n",
       "      <td>55.904364</td>\n",
       "    </tr>\n",
       "    <tr>\n",
       "      <th>4</th>\n",
       "      <td>20.0</td>\n",
       "      <td>18.709091</td>\n",
       "      <td>12.663636</td>\n",
       "      <td>50.0</td>\n",
       "      <td>70.796636</td>\n",
       "    </tr>\n",
       "    <tr>\n",
       "      <th>...</th>\n",
       "      <td>...</td>\n",
       "      <td>...</td>\n",
       "      <td>...</td>\n",
       "      <td>...</td>\n",
       "      <td>...</td>\n",
       "    </tr>\n",
       "    <tr>\n",
       "      <th>396</th>\n",
       "      <td>1980.0</td>\n",
       "      <td>9.009091</td>\n",
       "      <td>8.663636</td>\n",
       "      <td>20.0</td>\n",
       "      <td>47.323909</td>\n",
       "    </tr>\n",
       "    <tr>\n",
       "      <th>397</th>\n",
       "      <td>1985.0</td>\n",
       "      <td>9.690909</td>\n",
       "      <td>9.218182</td>\n",
       "      <td>24.0</td>\n",
       "      <td>51.238636</td>\n",
       "    </tr>\n",
       "    <tr>\n",
       "      <th>398</th>\n",
       "      <td>1990.0</td>\n",
       "      <td>11.254545</td>\n",
       "      <td>10.445455</td>\n",
       "      <td>27.0</td>\n",
       "      <td>56.644727</td>\n",
       "    </tr>\n",
       "    <tr>\n",
       "      <th>399</th>\n",
       "      <td>1995.0</td>\n",
       "      <td>13.081818</td>\n",
       "      <td>11.781818</td>\n",
       "      <td>31.0</td>\n",
       "      <td>63.913091</td>\n",
       "    </tr>\n",
       "    <tr>\n",
       "      <th>400</th>\n",
       "      <td>2000.0</td>\n",
       "      <td>14.954545</td>\n",
       "      <td>13.290909</td>\n",
       "      <td>35.0</td>\n",
       "      <td>67.175636</td>\n",
       "    </tr>\n",
       "  </tbody>\n",
       "</table>\n",
       "<p>401 rows × 5 columns</p>\n",
       "</div>"
      ],
      "text/plain": [
       "     Time(s)    Request   Response  #Users     #Cores\n",
       "0        0.0   0.000000   0.000000     0.0  33.004000\n",
       "1        5.0   0.000000   0.000000    39.0  33.004000\n",
       "2       10.0  12.190909   4.327273    43.0  33.004000\n",
       "3       15.0  13.854545   7.445455    46.0  55.904364\n",
       "4       20.0  18.709091  12.663636    50.0  70.796636\n",
       "..       ...        ...        ...     ...        ...\n",
       "396   1980.0   9.009091   8.663636    20.0  47.323909\n",
       "397   1985.0   9.690909   9.218182    24.0  51.238636\n",
       "398   1990.0  11.254545  10.445455    27.0  56.644727\n",
       "399   1995.0  13.081818  11.781818    31.0  63.913091\n",
       "400   2000.0  14.954545  13.290909    35.0  67.175636\n",
       "\n",
       "[401 rows x 5 columns]"
      ]
     },
     "execution_count": 2,
     "metadata": {},
     "output_type": "execute_result"
    }
   ],
   "source": [
    "data_folder = 'data/'\n",
    "\n",
    "n_run = sum(1 for item in os.listdir(data_folder) if os.path.isfile(os.path.join(data_folder, item)))   \n",
    "data_files = ['run' + str(i+1) + \".txt\" for i in range(0,n_run)]\n",
    "target_cols = ['Response', '#Users', '#Cores']\n",
    "target_labels = ['Throughput(req/s)', '#Users', '#Cores']\n",
    "save_labels = ['throughput', 'users', 'instances']\n",
    "steps = [50, 10, 200]\n",
    "cols = [1,3,5,7,9]\n",
    "column_names = ['Time(s)', 'Request', 'Response', '#Users', '#Cores']\n",
    "dfs = []\n",
    "for file in data_files:\n",
    "    df = pd.read_csv(\n",
    "        data_folder + file, \n",
    "        delim_whitespace=True,\n",
    "        names=column_names,\n",
    "        usecols=cols,\n",
    "        skiprows=[])\n",
    "    df['#Cores'] = [float(element[:-1]) for element in df['#Cores']]\n",
    "    dfs.append(df)\n",
    "\n",
    "# Concatenate DataFrames vertically\n",
    "concatenated_df = pd.concat(dfs)\n",
    "\n",
    "# Group by index and calculate the mean\n",
    "average_df = concatenated_df.groupby(level=0).mean()\n",
    "\n",
    "average_df\n"
   ]
  },
  {
   "cell_type": "markdown",
   "metadata": {},
   "source": [
    "## Plot Data"
   ]
  },
  {
   "cell_type": "code",
   "execution_count": 5,
   "metadata": {},
   "outputs": [
    {
     "data": {
      "image/png": "[encoded data removed]",
      "text/plain": [
       "<Figure size 720x432 with 1 Axes>"
      ]
     },
     "metadata": {
      "needs_background": "light"
     },
     "output_type": "display_data"
    }
   ],
   "source": [
    "target_index = 2\n",
    "save_label = save_labels[target_index]\n",
    "\n",
    "x = average_df['Time(s)']\n",
    "y = average_df[target_cols[target_index]]\n",
    "fig = plt.figure(figsize=[10,6])\n",
    "ax = plt.subplot(111)\n",
    "ax.grid(True)\n",
    "plt.grid(True, color='lightgray')\n",
    "plt.gca().set_facecolor('white')\n",
    "plt.gca().spines['top'].set_color('black')\n",
    "plt.gca().spines['right'].set_color('black')\n",
    "plt.gca().spines['bottom'].set_color('black')\n",
    "plt.gca().spines['left'].set_color('black')\n",
    "\n",
    "#define plots\n",
    "p = ax.plot(x, \n",
    "           y, \n",
    "           linestyle='solid', \n",
    "           color='#68A4D4',\n",
    "           linewidth=2,\n",
    "           label=target_labels[target_index],\n",
    "           zorder=1,\n",
    "           alpha=1\n",
    "           )\n",
    "\n",
    "up, down, step = 0,0,0\n",
    "if target_cols[target_index] == '#Users':\n",
    "    up = 80\n",
    "    step = 20\n",
    "elif target_cols[target_index] == 'Response':\n",
    "    up = 30\n",
    "    step = 10\n",
    "elif target_cols[target_index] == '#Cores':\n",
    "    up = 180\n",
    "    step = 40\n",
    "\n",
    "# set axis limits\n",
    "ax.set_yscale('linear')\n",
    "ax.set_xlim(-2, int(max(x)) + 5)\n",
    "ax.set_ylim(down, up)\n",
    "ax.set_yticks(range(0, up+1, step))\n",
    "\n",
    "# set ticks and labels\n",
    "ax.set_ylabel(target_labels[target_index], fontsize=26)\n",
    "ax.set_xlabel('Time(s)', fontsize=26)\n",
    "ax.set_xticks(range(0, int(max(x)) + 500, 500))\n",
    "ax.tick_params(axis='both', which='major', labelsize=20)\n",
    "\n",
    "# legend settings\n",
    "#ax.legend(loc='upper left', ncol=1, frameon=True, fontsize=13.5)\n",
    "\n",
    "fig.savefig(f'../../phd-thesis/figures/{save_label}.pdf', dpi=300, format='pdf', bbox_inches='tight')\n"
   ]
  },
  {
   "cell_type": "code",
   "execution_count": null,
   "metadata": {},
   "outputs": [],
   "source": []
  },
  {
   "cell_type": "code",
   "execution_count": null,
   "metadata": {},
   "outputs": [],
   "source": []
  }
 ],
 "metadata": {
  "kernelspec": {
   "display_name": "Python 3 (ipykernel)",
   "language": "python",
   "name": "python3"
  },
  "language_info": {
   "codemirror_mode": {
    "name": "ipython",
    "version": 3
   },
   "file_extension": ".py",
   "mimetype": "text/x-python",
   "name": "python",
   "nbconvert_exporter": "python",
   "pygments_lexer": "ipython3",
   "version": "3.8.5"
  },
  "vscode": {
   "interpreter": {
    "hash": "08eac26dc1f80337b7d87e94e7159a5bad95c2e85f47efef91c61359b3afbfe9"
   }
  }
 },
 "nbformat": 4,
 "nbformat_minor": 4
}
